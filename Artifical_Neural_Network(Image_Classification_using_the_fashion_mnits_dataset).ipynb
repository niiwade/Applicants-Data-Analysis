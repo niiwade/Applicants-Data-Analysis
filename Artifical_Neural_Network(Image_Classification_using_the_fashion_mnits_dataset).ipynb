{
  "nbformat": 4,
  "nbformat_minor": 0,
  "metadata": {
    "colab": {
      "name": "Artifical Neural Network(Image Classification using the fashion_mnits dataset).ipynb",
      "version": "0.3.2",
      "provenance": [],
      "collapsed_sections": [],
      "include_colab_link": true
    },
    "kernelspec": {
      "name": "python3",
      "display_name": "Python 3"
    }
  },
  "cells": [
    {
      "cell_type": "markdown",
      "metadata": {
        "id": "view-in-github",
        "colab_type": "text"
      },
      "source": [
        "<a href=\"https://colab.research.google.com/github/niiwade/Applicants-Data-Analysis/blob/master/Artifical_Neural_Network(Image_Classification_using_the_fashion_mnits_dataset).ipynb\" target=\"_parent\"><img src=\"https://colab.research.google.com/assets/colab-badge.svg\" alt=\"Open In Colab\"/></a>"
      ]
    },
    {
      "cell_type": "code",
      "metadata": {
        "id": "h-8YinGIe0M5",
        "colab_type": "code",
        "colab": {}
      },
      "source": [
        "import tensorflow as tf\n",
        "from tensorflow import keras"
      ],
      "execution_count": 0,
      "outputs": []
    },
    {
      "cell_type": "code",
      "metadata": {
        "id": "_Mty1Tm_e82j",
        "colab_type": "code",
        "colab": {}
      },
      "source": [
        "fashion = keras.datasets.fashion_mnist "
      ],
      "execution_count": 0,
      "outputs": []
    },
    {
      "cell_type": "code",
      "metadata": {
        "id": "gTTZe3m8fKAe",
        "colab_type": "code",
        "colab": {}
      },
      "source": [
        "(features_train, labels_train) , (features_test, labels_test) = fashion.load_data()"
      ],
      "execution_count": 0,
      "outputs": []
    },
    {
      "cell_type": "code",
      "metadata": {
        "id": "h7CQS-GifNh7",
        "colab_type": "code",
        "outputId": "61c2f806-89cd-4557-b416-48e5050c46aa",
        "colab": {
          "base_uri": "https://localhost:8080/",
          "height": 35
        }
      },
      "source": [
        "features_train.shape"
      ],
      "execution_count": 6,
      "outputs": [
        {
          "output_type": "execute_result",
          "data": {
            "text/plain": [
              "(60000, 28, 28)"
            ]
          },
          "metadata": {
            "tags": []
          },
          "execution_count": 6
        }
      ]
    },
    {
      "cell_type": "code",
      "metadata": {
        "id": "gPWZdvQHfVHh",
        "colab_type": "code",
        "outputId": "5dec3bfa-7c53-4026-f165-7a97aa7e192b",
        "colab": {
          "base_uri": "https://localhost:8080/",
          "height": 35
        }
      },
      "source": [
        "features_test.shape"
      ],
      "execution_count": 7,
      "outputs": [
        {
          "output_type": "execute_result",
          "data": {
            "text/plain": [
              "(10000, 28, 28)"
            ]
          },
          "metadata": {
            "tags": []
          },
          "execution_count": 7
        }
      ]
    },
    {
      "cell_type": "code",
      "metadata": {
        "id": "Jadd6FTkfeHz",
        "colab_type": "code",
        "outputId": "87d3152a-508b-4732-e62f-287adb83c470",
        "colab": {
          "base_uri": "https://localhost:8080/",
          "height": 35
        }
      },
      "source": [
        "labels_train"
      ],
      "execution_count": 8,
      "outputs": [
        {
          "output_type": "execute_result",
          "data": {
            "text/plain": [
              "array([9, 0, 0, ..., 3, 0, 5], dtype=uint8)"
            ]
          },
          "metadata": {
            "tags": []
          },
          "execution_count": 8
        }
      ]
    },
    {
      "cell_type": "code",
      "metadata": {
        "id": "5dw1FeD2fxyw",
        "colab_type": "code",
        "colab": {}
      },
      "source": [
        "label_names = ['T-Shirt', 'Trouser', 'Pullover', 'Dress', 'Coats', 'Sandal','Shirt','Sneakers','Bag','Ankle Boot']"
      ],
      "execution_count": 0,
      "outputs": []
    },
    {
      "cell_type": "code",
      "metadata": {
        "id": "9wiQQCCpgaYA",
        "colab_type": "code",
        "colab": {}
      },
      "source": [
        "import matplotlib.pyplot as plt"
      ],
      "execution_count": 0,
      "outputs": []
    },
    {
      "cell_type": "code",
      "metadata": {
        "id": "Yqh17Yjqg9rI",
        "colab_type": "code",
        "outputId": "323a626a-4285-4ffc-ad52-bff7bc75fefa",
        "colab": {
          "base_uri": "https://localhost:8080/",
          "height": 269
        }
      },
      "source": [
        "plt.figure()\n",
        "plt.imshow(features_train[0]) #indexing to show one image in the array\n",
        "plt.show()"
      ],
      "execution_count": 11,
      "outputs": [
        {
          "output_type": "display_data",
          "data": {
            "image/png": "[encoded data removed]",
            "text/plain": [
              "<Figure size 432x288 with 1 Axes>"
            ]
          },
          "metadata": {
            "tags": []
          }
        }
      ]
    },
    {
      "cell_type": "code",
      "metadata": {
        "id": "XQVK1t3zhBpP",
        "colab_type": "code",
        "colab": {}
      },
      "source": [
        "#normalize means you are scaling, it will not use more computing power\n",
        "features_train = features_train / 255.0   #\n",
        "features_test = features_test / 255.0"
      ],
      "execution_count": 0,
      "outputs": []
    },
    {
      "cell_type": "code",
      "metadata": {
        "id": "lMpoOz0bifKW",
        "colab_type": "code",
        "outputId": "59bbb5e2-bf5d-4299-cebc-ebf1886a30a6",
        "colab": {
          "base_uri": "https://localhost:8080/",
          "height": 592
        }
      },
      "source": [
        "plt.figure(figsize=(10,10))\n",
        "for i in range(25):\n",
        "  plt.subplot(5,5,i+1)\n",
        "  plt.xticks([])  #removes the bar on the x-axis\n",
        "  plt.yticks([])\n",
        "  plt.imshow(features_train[i])\n",
        "  plt.xlabel(label_names[labels_train[i]])\n",
        "plt.show()\n",
        "  "
      ],
      "execution_count": 13,
      "outputs": [
        {
          "output_type": "display_data",
          "data": {
            "image/png": "[encoded data removed]",
            "text/plain": [
              "<Figure size 720x720 with 25 Axes>"
            ]
          },
          "metadata": {
            "tags": []
          }
        }
      ]
    },
    {
      "cell_type": "code",
      "metadata": {
        "id": "zMukv1bRkbth",
        "colab_type": "code",
        "colab": {}
      },
      "source": [
        "# create a neural network\n",
        "model = keras.models.Sequential([\n",
        "    keras.layers.Flatten(input_shape=(28,28)),   #the number of neurons you want the input layer to have.\n",
        "    keras.layers.Dense(128, activation='relu'),            #make the neurons full connected #pass in the activation function #This the hidden layer #128 is the number of neurons you want yourlayers to have\n",
        "    keras.layers.Dense(10, activation ='softmax')  #output layer   #this is outputting 10 neurons as according to the label set you created\n",
        "])"
      ],
      "execution_count": 0,
      "outputs": []
    },
    {
      "cell_type": "code",
      "metadata": {
        "id": "RUa7KJ7x_HiC",
        "colab_type": "code",
        "colab": {}
      },
      "source": [
        "model.compile(optimizer='adam',\n",
        "             loss='sparse_categorical_crossentropy',\n",
        "             metrics=['accuracy'])"
      ],
      "execution_count": 0,
      "outputs": []
    },
    {
      "cell_type": "code",
      "metadata": {
        "id": "-fV-30bzGu6J",
        "colab_type": "code",
        "colab": {}
      },
      "source": [
        "model.fit(features_train, labels_train, epochs=10) #the epochs method is passed to determine how many times our machine neeed to learn "
      ],
      "execution_count": 0,
      "outputs": []
    },
    {
      "cell_type": "code",
      "metadata": {
        "id": "QhbbGa-BJguB",
        "colab_type": "code",
        "colab": {}
      },
      "source": [
        "model.fit(features_train, labels_train, epochs=15)"
      ],
      "execution_count": 0,
      "outputs": []
    },
    {
      "cell_type": "code",
      "metadata": {
        "id": "uAT0qD4mL1bR",
        "colab_type": "code",
        "colab": {}
      },
      "source": [
        "model.fit(features_train, labels_train, epochs=10)"
      ],
      "execution_count": 0,
      "outputs": []
    },
    {
      "cell_type": "code",
      "metadata": {
        "id": "OsKYRqfiMI01",
        "colab_type": "code",
        "colab": {}
      },
      "source": [
        "model.fit(features_train, labels_train, epochs=10)"
      ],
      "execution_count": 0,
      "outputs": []
    },
    {
      "cell_type": "code",
      "metadata": {
        "id": "OBuH34y7MWSH",
        "colab_type": "code",
        "colab": {}
      },
      "source": [
        "model.fit(features_train, labels_train, epochs=10)\n"
      ],
      "execution_count": 0,
      "outputs": []
    },
    {
      "cell_type": "code",
      "metadata": {
        "id": "gYvvQVL8MhrH",
        "colab_type": "code",
        "colab": {}
      },
      "source": [
        "model.fit(features_train, labels_train, epochs=10)"
      ],
      "execution_count": 0,
      "outputs": []
    },
    {
      "cell_type": "code",
      "metadata": {
        "id": "4jxI9kVoMs0O",
        "colab_type": "code",
        "colab": {}
      },
      "source": [
        "loss, accuracy = model.evaluate(features_train, labels_train)"
      ],
      "execution_count": 0,
      "outputs": []
    },
    {
      "cell_type": "code",
      "metadata": {
        "id": "OVixOExEND2-",
        "colab_type": "code",
        "colab": {}
      },
      "source": [
        "accuracy\n"
      ],
      "execution_count": 0,
      "outputs": []
    },
    {
      "cell_type": "code",
      "metadata": {
        "id": "lPbfOO_INgrw",
        "colab_type": "code",
        "colab": {}
      },
      "source": [
        "loss"
      ],
      "execution_count": 0,
      "outputs": []
    },
    {
      "cell_type": "code",
      "metadata": {
        "id": "CwQbcNozhV7-",
        "colab_type": "code",
        "colab": {}
      },
      "source": [
        "model.get_weights()"
      ],
      "execution_count": 0,
      "outputs": []
    },
    {
      "cell_type": "code",
      "metadata": {
        "id": "zWRvj_NjjF-M",
        "colab_type": "code",
        "colab": {}
      },
      "source": [
        "label_names[labels_test[0]]"
      ],
      "execution_count": 0,
      "outputs": []
    },
    {
      "cell_type": "code",
      "metadata": {
        "id": "97uXT6ZePBx-",
        "colab_type": "code",
        "colab": {}
      },
      "source": [
        ""
      ],
      "execution_count": 0,
      "outputs": []
    },
    {
      "cell_type": "code",
      "metadata": {
        "id": "yNN4p1hbNyCn",
        "colab_type": "code",
        "colab": {}
      },
      "source": [
        "prediction = model.predict(features_test)"
      ],
      "execution_count": 0,
      "outputs": []
    },
    {
      "cell_type": "code",
      "metadata": {
        "id": "x86iaxJ9N66L",
        "colab_type": "code",
        "colab": {}
      },
      "source": [
        "import numpy as np\n",
        "np.argmax(prediction[3])"
      ],
      "execution_count": 0,
      "outputs": []
    },
    {
      "cell_type": "code",
      "metadata": {
        "id": "F0uLvuTMNzWH",
        "colab_type": "code",
        "colab": {}
      },
      "source": [
        "labels_test[3]\n"
      ],
      "execution_count": 0,
      "outputs": []
    },
    {
      "cell_type": "code",
      "metadata": {
        "id": "dB9Sd6zLOctI",
        "colab_type": "code",
        "colab": {}
      },
      "source": [
        "plt.imshow(features_test[1])\n",
        "plt.xlabel(label_names[labels_test[1]])"
      ],
      "execution_count": 0,
      "outputs": []
    },
    {
      "cell_type": "code",
      "metadata": {
        "id": "bgOqUws0ObZK",
        "colab_type": "code",
        "colab": {}
      },
      "source": [
        "model.save('my_model.h5')"
      ],
      "execution_count": 0,
      "outputs": []
    },
    {
      "cell_type": "code",
      "metadata": {
        "id": "ITw3faQKX_uJ",
        "colab_type": "code",
        "colab": {}
      },
      "source": [
        ""
      ],
      "execution_count": 0,
      "outputs": []
    }
  ]
}